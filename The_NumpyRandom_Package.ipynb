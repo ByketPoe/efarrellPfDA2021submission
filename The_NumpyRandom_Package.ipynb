{
 "cells": [
  {
   "cell_type": "markdown",
   "id": "c3c78d1c-a590-4133-a91f-a3a6fb23e09c",
   "metadata": {},
   "source": [
    "# The Numpy.Random Package - an overview"
   ]
  },
  {
   "cell_type": "markdown",
   "id": "3c58f2e2-fe84-4be4-a345-fffada80f63a",
   "metadata": {},
   "source": [
    "##### This notebook give a detailed overview of the Random Package, found in the Numpy library, including examples of its use. "
   ]
  },
  {
   "cell_type": "markdown",
   "id": "b804db60-6c48-4d29-9fe3-ac10bd913d2c",
   "metadata": {},
   "source": [
    "## Purpose\n",
    "##### The NumPy.Random package is a sub-package of the NumPy library, a library in the Python programming language. The NumPy library provides functions and data structures that are useful for numerical processing for data analytics purposes. A common need in data analytics is generating random samples of data. The NumPy.Random package exists for this purpose. \n",
    "\n",
    "##### In this notebook, the primary uses of the NumPy.Random package are explained. Some functions in the package will be explained in detail, as will some distributions that the package can generate. The generation of random numbers using seeds will also be explained. "
   ]
  },
  {
   "cell_type": "code",
   "execution_count": 2,
   "id": "292a82c6-240c-47f9-abd0-dbcf00e68df9",
   "metadata": {},
   "outputs": [],
   "source": [
    "# import numpy package for use in the notebook\n",
    "import numpy as np"
   ]
  },
  {
   "cell_type": "markdown",
   "id": "80f04ae5-3bcb-4b86-9aa5-9da4ebb5d5a9",
   "metadata": {},
   "source": [
    "## Functions\n",
    "##### What follows is an explanation of some basic funtions that can be found in the NumPy.Random package.\n",
    "### Simple Random Data\n",
    "\n"
   ]
  },
  {
   "cell_type": "markdown",
   "id": "e8c1a03b-0e80-4e8e-862c-cdd6f9580694",
   "metadata": {},
   "source": [
    "### Permutation Function\n",
    "##### In mathematics, a permutation describes the linear order of a set of numbers. \n",
    "##### The NumPy.Random package has a function that returns a random permutation of numbers depending on a set of inputs. The permutation is returned as an array."
   ]
  },
  {
   "cell_type": "code",
   "execution_count": 6,
   "id": "4f0aead5-1331-4376-a0d5-c8bcc05d728c",
   "metadata": {},
   "outputs": [
    {
     "data": {
      "text/plain": [
       "array([0, 5, 4, 1, 7, 6, 2, 3])"
      ]
     },
     "execution_count": 6,
     "metadata": {},
     "output_type": "execute_result"
    }
   ],
   "source": [
    "# The function can accept an integer, in this case, 8.\n",
    "# This will return a random set of 8 integers from 0 up to but not including 8\n",
    "np.random.permutation(8)"
   ]
  },
  {
   "cell_type": "code",
   "execution_count": 8,
   "id": "44f7f682-7ba1-4611-b8c8-73e7077296a0",
   "metadata": {},
   "outputs": [
    {
     "data": {
      "text/plain": [
       "array([ 31,   7,   1, 301,  83,   6,  23])"
      ]
     },
     "execution_count": 8,
     "metadata": {},
     "output_type": "execute_result"
    }
   ],
   "source": [
    "# The function can also accept a list and return it with the items rearranged\n",
    "np.random.permutation([23, 7, 1, 83, 31, 6, 301])"
   ]
  },
  {
   "cell_type": "code",
   "execution_count": null,
   "id": "e176170a-e025-46b1-81a8-b5564fd62f42",
   "metadata": {},
   "outputs": [],
   "source": []
  },
  {
   "cell_type": "markdown",
   "id": "58ce14b1-0eab-4d4c-9c8d-8f07c397c4d1",
   "metadata": {},
   "source": [
    "#### Seeds"
   ]
  },
  {
   "cell_type": "markdown",
   "id": "ee6a096e-fedc-433b-9968-3054912bae08",
   "metadata": {},
   "source": [
    "##### The purpose of seed is to provide a starting point for random number generation. It is difficult to truely randomly generate lists of numbers, so seeds are generated to begin the process. They are generated at the point in which the package is imported, and are typically based on the time of the machine. If one were to understand how the seed is generated, it would be possible to guess the list of numbers that are produced. "
   ]
  },
  {
   "cell_type": "markdown",
   "id": "6ff5b5e3-9c29-4642-96dd-1b251cba7658",
   "metadata": {},
   "source": [
    "#### PCG64 Algorithm"
   ]
  },
  {
   "cell_type": "markdown",
   "id": "67edd27e-4395-4faf-9e17-a4fa50f0360b",
   "metadata": {},
   "source": [
    "##### Notes here on the algorithm"
   ]
  }
 ],
 "metadata": {
  "kernelspec": {
   "display_name": "Python 3",
   "language": "python",
   "name": "python3"
  },
  "language_info": {
   "codemirror_mode": {
    "name": "ipython",
    "version": 3
   },
   "file_extension": ".py",
   "mimetype": "text/x-python",
   "name": "python",
   "nbconvert_exporter": "python",
   "pygments_lexer": "ipython3",
   "version": "3.8.8"
  }
 },
 "nbformat": 4,
 "nbformat_minor": 5
}
