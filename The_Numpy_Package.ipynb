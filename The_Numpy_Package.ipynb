{
 "cells": [
  {
   "cell_type": "markdown",
   "id": "c3c78d1c-a590-4133-a91f-a3a6fb23e09c",
   "metadata": {},
   "source": [
    "# The Numpy.Random Package - an overview"
   ]
  },
  {
   "cell_type": "markdown",
   "id": "3c58f2e2-fe84-4be4-a345-fffada80f63a",
   "metadata": {},
   "source": [
    "##### This notebook give a detailed overview of the Random Package, found in the Numpy library, including examples of its use. "
   ]
  },
  {
   "cell_type": "code",
   "execution_count": null,
   "id": "292a82c6-240c-47f9-abd0-dbcf00e68df9",
   "metadata": {},
   "outputs": [],
   "source": [
    "# import numpy package for use in the notebook\n",
    "import numpy as np"
   ]
  },
  {
   "cell_type": "markdown",
   "id": "27a5e88e-4362-42cd-8901-c20f6e41aaf0",
   "metadata": {},
   "source": [
    "##### The first function I want to explore is the integer function."
   ]
  },
  {
   "cell_type": "code",
   "execution_count": null,
   "id": "e176170a-e025-46b1-81a8-b5564fd62f42",
   "metadata": {},
   "outputs": [],
   "source": [
    "# Create an initialised generator object and assign to variable rng\n",
    "rng = np.random.default_rng()\n",
    "\n",
    "# Return an array of 10 numbers (size) \n",
    "# between 0 (default) and 2 (passed into function)\n",
    "rng.integers(2, size=10)"
   ]
  },
  {
   "cell_type": "markdown",
   "id": "58ce14b1-0eab-4d4c-9c8d-8f07c397c4d1",
   "metadata": {},
   "source": [
    "#### Seeds"
   ]
  },
  {
   "cell_type": "markdown",
   "id": "ee6a096e-fedc-433b-9968-3054912bae08",
   "metadata": {},
   "source": [
    "##### The purpose of seed is to provide a starting point for random number generation. It is difficult to truely randomly generate lists of numbers, so seeds are generated to begin the process. They are generated at the point in which the package is imported, and are typically based on the time of the machine. If one were to understand how the seed is generated, it would be possible to guess the list of numbers that are produced. "
   ]
  },
  {
   "cell_type": "markdown",
   "id": "6ff5b5e3-9c29-4642-96dd-1b251cba7658",
   "metadata": {},
   "source": [
    "#### PCG64 Algorithm"
   ]
  },
  {
   "cell_type": "markdown",
   "id": "67edd27e-4395-4faf-9e17-a4fa50f0360b",
   "metadata": {},
   "source": [
    "##### Notes here on the algorithm"
   ]
  }
 ],
 "metadata": {
  "kernelspec": {
   "display_name": "Python 3",
   "language": "python",
   "name": "python3"
  },
  "language_info": {
   "codemirror_mode": {
    "name": "ipython",
    "version": 3
   },
   "file_extension": ".py",
   "mimetype": "text/x-python",
   "name": "python",
   "nbconvert_exporter": "python",
   "pygments_lexer": "ipython3",
   "version": "3.8.8"
  }
 },
 "nbformat": 4,
 "nbformat_minor": 5
}
