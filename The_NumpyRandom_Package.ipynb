{
 "cells": [
  {
   "cell_type": "markdown",
   "id": "c3c78d1c-a590-4133-a91f-a3a6fb23e09c",
   "metadata": {},
   "source": [
    "# The Numpy.Random Package - an overview"
   ]
  },
  {
   "cell_type": "markdown",
   "id": "3c58f2e2-fe84-4be4-a345-fffada80f63a",
   "metadata": {},
   "source": [
    "##### This notebook give a detailed overview of the Random Package, found in the Numpy library, including examples of its use. "
   ]
  },
  {
   "cell_type": "markdown",
   "id": "b804db60-6c48-4d29-9fe3-ac10bd913d2c",
   "metadata": {},
   "source": [
    "## Purpose\n",
    "The NumPy.Random package is a sub-package of the NumPy library, a library in the Python programming language. The NumPy library provides functions and data structures that are useful for numerical processing for data analytics purposes. A common need in data analytics is generating random samples of data. The NumPy.Random package exists for this purpose. \n",
    "\n",
    "In this notebook, the primary uses of the NumPy.Random package are explained. Some functions in the package will be explained in detail, as will some distributions that the package can generate. The generation of random numbers using seeds will also be explained. "
   ]
  },
  {
   "cell_type": "code",
   "execution_count": 1,
   "id": "292a82c6-240c-47f9-abd0-dbcf00e68df9",
   "metadata": {},
   "outputs": [],
   "source": [
    "# import numpy package for use in the notebook\n",
    "import numpy as np\n",
    "import matplotlib.pyplot as plt\n",
    "import seaborn as sns "
   ]
  },
  {
   "cell_type": "markdown",
   "id": "80f04ae5-3bcb-4b86-9aa5-9da4ebb5d5a9",
   "metadata": {},
   "source": [
    "## Functions\n",
    "What follows is an explanation of some basic funtions that can be found in the NumPy.Random package.\n",
    "### Simple Random Data\n",
    "Four functions in Numpy.Random that can be used to generate random data are:\n",
    "- integers\n",
    "- random\n",
    "- choice\n",
    "- bytes\n",
    "\n",
    "Examples of their use is given below."
   ]
  },
  {
   "cell_type": "markdown",
   "id": "98452d0a-91a1-4117-a23a-0fc4036ecbb7",
   "metadata": {},
   "source": [
    "#### Integers\n",
    "This function takes an integer as an argument and returns a random integer between 0 and the input. If an upper limit is specified, the returned integer is between the input integer and the upper limit. If a size is specified, an array of random integers with the specified size and shape is returned. The results are uniformly distributed. "
   ]
  },
  {
   "cell_type": "code",
   "execution_count": 6,
   "id": "4d23ec0d-cfa6-46dd-813c-dbec06f52452",
   "metadata": {},
   "outputs": [
    {
     "data": {
      "text/plain": [
       "1"
      ]
     },
     "execution_count": 6,
     "metadata": {},
     "output_type": "execute_result"
    }
   ],
   "source": [
    "# The integer function, like a lot of functions, is accessed through the path numpy.random.default_rng()\n",
    "# For ease of use, it's being assigned here as the variable rndm. \n",
    "rndm = np.random.default_rng()\n",
    "\n",
    "# With just one argument, a random number between 0 and the input is output. \n",
    "rndm.integers(8)"
   ]
  },
  {
   "cell_type": "code",
   "execution_count": null,
   "id": "e100339c-6fec-48c3-b6ec-c935408738e3",
   "metadata": {},
   "outputs": [],
   "source": [
    "# In this example, the function will output an array with 5 items as specified in the size argument. \n",
    "# With low and high arguments specified, integers between 1 and 100 are selected. \n",
    "rndm.integers(low=1, high=100, size=5)"
   ]
  },
  {
   "cell_type": "markdown",
   "id": "c843a844-8c50-4497-8eed-2d81cd6a7c7b",
   "metadata": {},
   "source": [
    "The endpoint argument can be used to include or exclude the upper limit from being randomly chosen. The datatype of the output can also be specified."
   ]
  },
  {
   "cell_type": "code",
   "execution_count": null,
   "id": "164e3371-0ee6-47fa-98d7-8d432a188226",
   "metadata": {},
   "outputs": [],
   "source": [
    "# Arrays with multiple dimensions can be specified, and the datatype can be changed from the default signed 64 bit integer.\n",
    "# Here the datatype has been changed to an unsigned 16 bit integer.\n",
    "# The upper limit is included when endpoint = True.\n",
    "rndm.integers(low=0, high=2, size=(3, 4), endpoint=True, dtype=np.uint16)"
   ]
  },
  {
   "cell_type": "markdown",
   "id": "012d5ef9-7fcd-449f-b849-2d4e620593da",
   "metadata": {},
   "source": [
    "#### Random\n",
    "This function works similarly to the integers function, but deals with floats. If no argument is specified, it returns a float between 0 up to but not including 1. "
   ]
  },
  {
   "cell_type": "code",
   "execution_count": null,
   "id": "b146b359-df50-405b-99cf-846901e3167d",
   "metadata": {},
   "outputs": [],
   "source": [
    "# No argument specified\n",
    "rndm.random()"
   ]
  },
  {
   "cell_type": "markdown",
   "id": "3a7a367c-a2df-43fa-8086-43c8eb0e0292",
   "metadata": {},
   "source": [
    "The default argument gives the size of an array to output the result to. The results are uniformly distributed. "
   ]
  },
  {
   "cell_type": "code",
   "execution_count": null,
   "id": "c1355023-16e7-4eb4-b3da-baae0f20b0c1",
   "metadata": {},
   "outputs": [],
   "source": [
    "# Random numbers between 0 and 1 are selected and output to an array with 1 row and 15 columns\n",
    "rndm.random(15)"
   ]
  },
  {
   "cell_type": "markdown",
   "id": "580eedb3-764c-4ca8-a451-6636ec862860",
   "metadata": {},
   "source": [
    "Unlike with the integers function, upper and lower limits cannot be specified. Because of this, usually the function is used to multiply with other numbers to get random numbers greater than 1. "
   ]
  },
  {
   "cell_type": "code",
   "execution_count": null,
   "id": "25e179c2-8b3c-43ea-8419-1835e3c357b6",
   "metadata": {},
   "outputs": [],
   "source": [
    "# The following returns a 3x4 array of floats between 0 and 5. \n",
    "5 * rndm.random((3, 4))"
   ]
  },
  {
   "cell_type": "markdown",
   "id": "948ef55f-d3b1-4b02-9a0c-a92e27fc57a2",
   "metadata": {},
   "source": [
    "#### Choice\n",
    "This takes in an array or an integer. If an array, it returns a sample of the items in that array. If an integer, it returns a random integer between 0 and the integer exclusive, determined using the function np.arange(). if a second integer is specified, this"
   ]
  },
  {
   "cell_type": "code",
   "execution_count": null,
   "id": "1809d6ef-8415-4642-8f6a-543bad764601",
   "metadata": {},
   "outputs": [],
   "source": [
    "rndm.choice(12)"
   ]
  },
  {
   "cell_type": "code",
   "execution_count": null,
   "id": "8f2dcf0f-55b2-44d1-9d7f-ee383738ae57",
   "metadata": {},
   "outputs": [],
   "source": [
    "rndm.choice([2, 4, 6, 8])"
   ]
  },
  {
   "cell_type": "markdown",
   "id": "1ba31078-608b-4050-af41-49a58ad565ff",
   "metadata": {},
   "source": [
    "Similar to the integers and random functions, the size of the output can be specified. The probability of each entry in the input array being chosen can be specified using the p argument and passing in an array with the probabilities. Whether or not the item is replaced in the pool of possible choices after it is selected is determined by the replace argument, which is True by default. If set to false, the item can only be chosen once. "
   ]
  },
  {
   "cell_type": "code",
   "execution_count": null,
   "id": "860dad01-052a-4fd8-9895-6cf03a2d42c9",
   "metadata": {},
   "outputs": [],
   "source": [
    "# With replacement\n",
    "rndm.choice(5, size=3, p=[0.1, 0.1, 0.2, 0.4, 0.2])"
   ]
  },
  {
   "cell_type": "code",
   "execution_count": null,
   "id": "43f29862-115d-4900-926a-4880c5ef70be",
   "metadata": {},
   "outputs": [],
   "source": [
    "# Without replacement. The items with less probability are now more likely to be chosen.\n",
    "rndm.choice(5, size=3, p=[0.1, 0.1, 0.2, 0.4, 0.2], replace=False)"
   ]
  },
  {
   "cell_type": "markdown",
   "id": "cdd19256-59fe-4c58-a1c9-ea85c326db44",
   "metadata": {},
   "source": [
    "The function by default selects by row for arrays greater than 1 dimension. Setting the axis argument =1 will select by column. The shuffle argument is True by default and shuffles the array when sampling without replacement. Setting this =False can improve performance."
   ]
  },
  {
   "cell_type": "code",
   "execution_count": null,
   "id": "620a2d5d-040d-46a6-83a1-6435f952aea0",
   "metadata": {},
   "outputs": [],
   "source": [
    "twoDarrcol = [[0, 2, 4, 6, 8],[1, 3, 5, 7, 9]]\n",
    "rndm.choice(twoDarr, axis=1, replace=False, shuffle=False)"
   ]
  },
  {
   "cell_type": "code",
   "execution_count": null,
   "id": "6e6c4644-df7c-4a4f-964b-3952864821f2",
   "metadata": {},
   "outputs": [],
   "source": [
    "twoDarrrow = [[0, 2, 4, 6, 8],[1, 3, 5, 7, 9]]\n",
    "rndm.choice(twoDarr, axis=0, replace=False, shuffle=False)"
   ]
  },
  {
   "cell_type": "markdown",
   "id": "78dbfb37-1f99-4291-b9aa-c87ba41fe17f",
   "metadata": {},
   "source": [
    "#### Bytes\n",
    "This function takes an integer as an argument and returns a random string of characters. The number of characters is determined byt the input argument.  "
   ]
  },
  {
   "cell_type": "code",
   "execution_count": null,
   "id": "ee36b365-a473-4238-b8f2-e7f4a2940fd1",
   "metadata": {},
   "outputs": [],
   "source": [
    "rndm.bytes(15)"
   ]
  },
  {
   "cell_type": "markdown",
   "id": "bc12db10-b8dd-4a63-a4c9-155293a8851c",
   "metadata": {},
   "source": [
    "The number of characters can be checked using the len() function. "
   ]
  },
  {
   "cell_type": "code",
   "execution_count": null,
   "id": "ffe7d8c4-9ef1-4255-9e97-c46345616b96",
   "metadata": {},
   "outputs": [],
   "source": [
    "byt_out = rndm.bytes(15)\n",
    "print(len(byt_out))"
   ]
  },
  {
   "cell_type": "markdown",
   "id": "e8c1a03b-0e80-4e8e-862c-cdd6f9580694",
   "metadata": {},
   "source": [
    "### Permutation Functions\n",
    "In mathematics, a permutation describes the linear order of a set of numbers. \n",
    "The NumPy.Random package has functions that randomly change the order of items in an array. These are:\n",
    "* shuffle\n",
    "* permutation\n",
    "* permuted"
   ]
  },
  {
   "cell_type": "markdown",
   "id": "83d5d09e-2b1c-4fee-9be5-f94dad7bdf9c",
   "metadata": {},
   "source": [
    "#### Shuffle\n",
    "This function takes in an iterable such as an array, shuffles its contents, then returns the output to the original variable. The axis argument can be used to specify whether to suffle along the rows (0) or the columns (1)."
   ]
  },
  {
   "cell_type": "code",
   "execution_count": 7,
   "id": "8fac8766-efef-469f-979e-98603ef6985a",
   "metadata": {},
   "outputs": [
    {
     "name": "stdout",
     "output_type": "stream",
     "text": [
      "[3 4 2 5 8 0 6 7 1]\n"
     ]
    }
   ],
   "source": [
    "# arange() returns an array with items 0-input integer exclusive. \n",
    "it = np.arange(9)\n",
    "rndm.shuffle(it)\n",
    "print(it)"
   ]
  },
  {
   "cell_type": "code",
   "execution_count": 14,
   "id": "20bb566e-3b4b-4baa-ac12-0262b93f0372",
   "metadata": {},
   "outputs": [
    {
     "name": "stdout",
     "output_type": "stream",
     "text": [
      "[[ 4  5  2  6  0  7  3  1]\n",
      " [12 13 10 14  8 15 11  9]\n",
      " [20 21 18 22 16 23 19 17]\n",
      " [28 29 26 30 24 31 27 25]]\n"
     ]
    }
   ],
   "source": [
    "twodarrRows = np.arange(32).reshape((4, 8))\n",
    "rndm.shuffle(twodarrRows, axis=0)\n",
    "print(twodarr)"
   ]
  },
  {
   "cell_type": "code",
   "execution_count": 15,
   "id": "bf6c4c28-36fd-4f08-8d03-27b168313f73",
   "metadata": {},
   "outputs": [
    {
     "name": "stdout",
     "output_type": "stream",
     "text": [
      "[[ 5  2  7  1  3  6  0  4]\n",
      " [13 10 15  9 11 14  8 12]\n",
      " [21 18 23 17 19 22 16 20]\n",
      " [29 26 31 25 27 30 24 28]]\n"
     ]
    }
   ],
   "source": [
    "twodarr = np.arange(32).reshape((4, 8))\n",
    "rndm.shuffle(twodarr, axis=1)\n",
    "print(twodarr)"
   ]
  },
  {
   "cell_type": "markdown",
   "id": "d27265e9-4bdb-48ca-8cf6-10f59d32391c",
   "metadata": {},
   "source": [
    "#### Permutation\n",
    "This function returns a random permutation of numbers depending on a set of inputs. The permutation is returned as an array. "
   ]
  },
  {
   "cell_type": "code",
   "execution_count": 8,
   "id": "4f0aead5-1331-4376-a0d5-c8bcc05d728c",
   "metadata": {},
   "outputs": [
    {
     "data": {
      "text/plain": [
       "array([1, 3, 4, 7, 6, 5, 0, 2])"
      ]
     },
     "execution_count": 8,
     "metadata": {},
     "output_type": "execute_result"
    }
   ],
   "source": [
    "# The function can accept an integer, in this case, 8.\n",
    "# This will return a random set of 8 integers from 0 up to but not including 8\n",
    "rndm.permutation(8)"
   ]
  },
  {
   "cell_type": "code",
   "execution_count": 9,
   "id": "44f7f682-7ba1-4611-b8c8-73e7077296a0",
   "metadata": {},
   "outputs": [
    {
     "data": {
      "text/plain": [
       "array([  7,  23,  83,   6,  31, 301,   1])"
      ]
     },
     "execution_count": 9,
     "metadata": {},
     "output_type": "execute_result"
    }
   ],
   "source": [
    "# The function can also accept a list and return it with the items rearranged\n",
    "rndm.permutation([23, 7, 1, 83, 31, 6, 301])"
   ]
  },
  {
   "cell_type": "markdown",
   "id": "46d5af21-8fea-4c7b-9ade-f269637b51c6",
   "metadata": {},
   "source": [
    "#### Permuted\n",
    "This function takes only arrays. The output array can be specified by the user using the out argument."
   ]
  },
  {
   "cell_type": "code",
   "execution_count": 17,
   "id": "a0a55030-990e-4101-8184-cfb2277b4c7a",
   "metadata": {},
   "outputs": [
    {
     "name": "stdout",
     "output_type": "stream",
     "text": [
      "[[ 0  1  2  3  4  5  6  7]\n",
      " [ 8  9 10 11 12 13 14 15]\n",
      " [16 17 18 19 20 21 22 23]\n",
      " [24 25 26 27 28 29 30 31]] [[ 0 17 26 27 28 29 30  7]\n",
      " [ 8  1 10 11 12  5  6 15]\n",
      " [16  9 18  3  4 21 14 31]\n",
      " [24 25  2 19 20 13 22 23]]\n"
     ]
    }
   ],
   "source": [
    "in_arr = np.arange(32).reshape(4, 8)\n",
    "out_arr = rndm.permuted(in_arr, axis=0)\n",
    "print(in_arr, out_arr)"
   ]
  },
  {
   "cell_type": "code",
   "execution_count": 18,
   "id": "ccfcadda-2314-4cf9-92d5-17bad48701d6",
   "metadata": {},
   "outputs": [
    {
     "name": "stdout",
     "output_type": "stream",
     "text": [
      "[[16 25  2  3 12 13 22 15]\n",
      " [24  1 18 11 20 21 30 31]\n",
      " [ 0  9 26 27 28  5  6 23]\n",
      " [ 8 17 10 19  4 29 14  7]] [[ 0 17 26 27 28 29 30  7]\n",
      " [ 8  1 10 11 12  5  6 15]\n",
      " [16  9 18  3  4 21 14 31]\n",
      " [24 25  2 19 20 13 22 23]]\n"
     ]
    }
   ],
   "source": [
    "rndm.permuted(in_arr, axis=0, out=in_arr)\n",
    "print(in_arr, out_arr)"
   ]
  },
  {
   "cell_type": "markdown",
   "id": "142e4a5b-3c8e-4f64-9667-cb849aa14935",
   "metadata": {},
   "source": [
    "## Distributions\n",
    "A probability distribution is a plot that shows the possible values a variable can be and how frequently the values occur. For example, the measurements of heights of members of a popluation shown in a histogram would show that most of the measurements cluster around an average/mean and get less frequent at taller and shorter heights. A mathematical function describes the curve under which the measurement frequencies will most likely be found, this gives the probability distribution. The distribution in this case would most likely be a \"normal\" or \"Gaussian\" distribution.\n",
    "\n",
    "Probability distributions can be **discrete** (data can be only certain values) or **continuous** (data can be any value within a range). There exist different mathematical functions that describe the different probability distributions that can exist, depending on the circumstances of data selection and properties of the data. The Numpy.Random package has functions that are capable of randomly sampling data according to many different probability distributions. In this notebook, examples of five different probability distribution functions will be demonstrated using Numpy.Random to sample the data and Seaborn to visalise it. \n",
    "\n"
   ]
  },
  {
   "cell_type": "markdown",
   "id": "3f2cb3ca-99b1-4215-83a3-de1e4d0d223a",
   "metadata": {},
   "source": [
    "### Normal Distribution"
   ]
  },
  {
   "cell_type": "code",
   "execution_count": null,
   "id": "7cccc2b7-c221-4f05-a3c1-7908770887e1",
   "metadata": {},
   "outputs": [],
   "source": [
    "res_arr = np.random.normal(loc=0,scale=1,size=(400,))\n",
    "plt.hist(res_arr)\n",
    "sns.displot(res_arr, kind='kde')\n",
    "plt.show()"
   ]
  },
  {
   "cell_type": "markdown",
   "id": "920b85cb-484b-4e43-a67f-1c338633e625",
   "metadata": {},
   "source": [
    "### Uniform Distribution"
   ]
  },
  {
   "cell_type": "code",
   "execution_count": null,
   "id": "21ed9d92-fadf-4006-a321-721528ca15d4",
   "metadata": {},
   "outputs": [],
   "source": [
    "uni_arr = np.random.uniform(-1,0,1000)\n",
    "plt.hist(uni_arr)\n",
    "sns.displot(uni_arr, kind='kde')\n",
    "plt.show()"
   ]
  },
  {
   "cell_type": "markdown",
   "id": "938f19c0-c6e2-41c2-8a2d-bf0e9f5f28f3",
   "metadata": {},
   "source": [
    "### Weibull Distribution"
   ]
  },
  {
   "cell_type": "code",
   "execution_count": null,
   "id": "81126712-9ea6-4e88-a92e-509a873fad96",
   "metadata": {},
   "outputs": [],
   "source": [
    "shape=5\n",
    "wei_arr = np.random.weibull(shape,400)\n",
    "plt.hist(wei_arr)\n",
    "sns.displot(wei_arr, kind='kde')\n",
    "plt.show()"
   ]
  },
  {
   "cell_type": "markdown",
   "id": "f2c3e902-a215-4cc9-82ed-38537d842cb7",
   "metadata": {},
   "source": [
    "### Binomial distribution"
   ]
  },
  {
   "cell_type": "code",
   "execution_count": null,
   "id": "29029475-59c9-478c-90dc-5665fd130032",
   "metadata": {},
   "outputs": [],
   "source": [
    "bi_arr = np.random.binomial(36,1/6,400)\n",
    "plt.hist(bi_arr)\n",
    "sns.displot(bi_arr, kind='kde')\n",
    "plt.show()"
   ]
  },
  {
   "cell_type": "markdown",
   "id": "49d5017f-9659-41d3-a79e-f9cce20e31db",
   "metadata": {},
   "source": [
    "### Poisson distribution"
   ]
  },
  {
   "cell_type": "code",
   "execution_count": null,
   "id": "3495de34-2985-44a7-9eda-790d5f2a1410",
   "metadata": {},
   "outputs": [],
   "source": [
    "poi_arr = np.random.poisson(2,4000)\n",
    "plt.hist(poi_arr)\n",
    "sns.displot(poi_arr, kind='kde')\n",
    "plt.show()"
   ]
  },
  {
   "cell_type": "markdown",
   "id": "58ce14b1-0eab-4d4c-9c8d-8f07c397c4d1",
   "metadata": {},
   "source": [
    "## Random Number Generation (RNG)"
   ]
  },
  {
   "cell_type": "markdown",
   "id": "ee6a096e-fedc-433b-9968-3054912bae08",
   "metadata": {},
   "source": [
    "The ability to generate sequences of random numbers is useful for many applications, including security, statistical sampling, cryptography, gambling and gaming. True random number generation is difficult to achieve without relying on random natural phenomena such as radioactive decay and thermal fluctuations. Without this, numbers can instead be generated in what is called **pseudorandom** methods. This requires use of an **algorithm** to generate the sequence of numbers, and a **seed** to initialise the process. This can simulate random occurences, but if the seed and algorithm are known, the pattern can be determined, hence it is called \"pseudo\" random as opposed to \"true\" random."
   ]
  },
  {
   "cell_type": "markdown",
   "id": "fd6f1b5a-e830-41a3-b932-85e5bbcdc9e0",
   "metadata": {},
   "source": [
    "### Using Numpy for RNG"
   ]
  },
  {
   "cell_type": "markdown",
   "id": "6ff5b5e3-9c29-4642-96dd-1b251cba7658",
   "metadata": {},
   "source": [
    "Generator and BitGenerator are classes within the Numpy.Random package that are used in combination to generate pseudorandom numbers and create statistical distributions. BitGenerator generates a random stream of numbers, which Generator then rearranges into probability distributions like those described above. The default algorithm used is **PCG64** as can be seen when the function .default_rng() is used."
   ]
  },
  {
   "cell_type": "markdown",
   "id": "8a6ef553-1d0c-4624-b4c8-bed3a45a4521",
   "metadata": {},
   "source": [
    "## References\n",
    "* Distributions: https://www.bmc.com/blogs/numpy-statistical-functions/\n",
    "* Numpy simple random functions: https://numpy.org/doc/stable/reference/random/generator.html#numpy.random.default_rng\n",
    "* Random number generation: https://techlinkcenter.org/technologies/hardware-based-random-number-generator-leverages-the-variations-in-materials/37920ab6-513f-440f-ac3a-a518016a652f\n",
    "* BitGenerator and Generator: https://numpy.org/doc/stable/reference/random/index.html"
   ]
  },
  {
   "cell_type": "code",
   "execution_count": null,
   "id": "5e99d673-fb85-47bb-a1f6-09603a8e0d36",
   "metadata": {},
   "outputs": [],
   "source": []
  }
 ],
 "metadata": {
  "kernelspec": {
   "display_name": "Python 3",
   "language": "python",
   "name": "python3"
  },
  "language_info": {
   "codemirror_mode": {
    "name": "ipython",
    "version": 3
   },
   "file_extension": ".py",
   "mimetype": "text/x-python",
   "name": "python",
   "nbconvert_exporter": "python",
   "pygments_lexer": "ipython3",
   "version": "3.8.8"
  }
 },
 "nbformat": 4,
 "nbformat_minor": 5
}
