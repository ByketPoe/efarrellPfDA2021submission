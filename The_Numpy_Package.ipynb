{
 "cells": [
  {
   "cell_type": "markdown",
   "id": "c3c78d1c-a590-4133-a91f-a3a6fb23e09c",
   "metadata": {},
   "source": [
    "# The Numpy Package - an overview"
   ]
  },
  {
   "cell_type": "markdown",
   "id": "3c58f2e2-fe84-4be4-a345-fffada80f63a",
   "metadata": {},
   "source": [
    "##### This notebook give a detailed overview of the Numpy Package, including examples of its use. "
   ]
  },
  {
   "cell_type": "code",
   "execution_count": 1,
   "id": "292a82c6-240c-47f9-abd0-dbcf00e68df9",
   "metadata": {},
   "outputs": [],
   "source": [
    "import numpy as np"
   ]
  },
  {
   "cell_type": "code",
   "execution_count": null,
   "id": "ff61273e-84c9-41f0-8e48-6b35e5c6fcc4",
   "metadata": {},
   "outputs": [],
   "source": []
  }
 ],
 "metadata": {
  "kernelspec": {
   "display_name": "Python 3",
   "language": "python",
   "name": "python3"
  },
  "language_info": {
   "codemirror_mode": {
    "name": "ipython",
    "version": 3
   },
   "file_extension": ".py",
   "mimetype": "text/x-python",
   "name": "python",
   "nbconvert_exporter": "python",
   "pygments_lexer": "ipython3",
   "version": "3.8.8"
  }
 },
 "nbformat": 4,
 "nbformat_minor": 5
}
